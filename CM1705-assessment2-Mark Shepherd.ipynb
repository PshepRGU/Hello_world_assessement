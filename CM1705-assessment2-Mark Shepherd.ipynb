{
 "cells": [
  {
   "cell_type": "code",
   "execution_count": 4,
   "metadata": {},
   "outputs": [
    {
     "name": "stdout",
     "output_type": "stream",
     "text": [
      "Hello World\n",
      "Assessment for CM1705 - fundamentals of Programming \n"
     ]
    }
   ],
   "source": [
    "print(\"Hello World\")\n",
    "print(\"Assessment for CM1705 - fundamentals of Programming \")\n"
   ]
  },
  {
   "cell_type": "code",
   "execution_count": 3,
   "metadata": {},
   "outputs": [
    {
     "name": "stdout",
     "output_type": "stream",
     "text": [
      "what is your user name?   Mark\n",
      "Hello Mark\n",
      "Welcome to CM1705 assessment2\n"
     ]
    }
   ],
   "source": [
    "user_name=input(\"what is your user name?   \")\n",
    "print(\"Hello \" + user_name)\n",
    "print(\"Welcome to CM1705 assessment2\")"
   ]
  }
 ],
 "metadata": {
  "kernelspec": {
   "display_name": "Python 3",
   "language": "python",
   "name": "python3"
  },
  "language_info": {
   "codemirror_mode": {
    "name": "ipython",
    "version": 3
   },
   "file_extension": ".py",
   "mimetype": "text/x-python",
   "name": "python",
   "nbconvert_exporter": "python",
   "pygments_lexer": "ipython3",
   "version": "3.8.3"
  }
 },
 "nbformat": 4,
 "nbformat_minor": 4
}

